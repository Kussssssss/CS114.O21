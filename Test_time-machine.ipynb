{
  "nbformat": 4,
  "nbformat_minor": 0,
  "metadata": {
    "colab": {
      "provenance": [],
      "authorship_tag": "ABX9TyOTp/etOFB4ClHQE63RGpuF",
      "include_colab_link": true
    },
    "kernelspec": {
      "name": "python3",
      "display_name": "Python 3"
    },
    "language_info": {
      "name": "python"
    }
  },
  "cells": [
    {
      "cell_type": "markdown",
      "metadata": {
        "id": "view-in-github",
        "colab_type": "text"
      },
      "source": [
        "<a href=\"https://colab.research.google.com/github/Kussssssss/CS114.O21/blob/main/Test_time-machine.ipynb\" target=\"_parent\"><img src=\"https://colab.research.google.com/assets/colab-badge.svg\" alt=\"Open In Colab\"/></a>"
      ]
    },
    {
      "cell_type": "code",
      "execution_count": 13,
      "metadata": {
        "colab": {
          "base_uri": "https://localhost:8080/"
        },
        "id": "q_OfTNEAVjxC",
        "outputId": "8a21ceec-3c6d-409c-e6ba-ecad69b49741"
      },
      "outputs": [
        {
          "output_type": "stream",
          "name": "stdout",
          "text": [
            "Overwriting gentest.py\n"
          ]
        }
      ],
      "source": [
        "%%writefile gentest.py\n",
        "import random\n",
        "\n",
        "n,m = 1000,10000\n",
        "print(n)\n",
        "print(*sorted([random.randint(-n, n) for _ in range(n)]))\n",
        "print(m)\n",
        "print(*[random.randint(-n,n) for _ in range(m)])"
      ]
    },
    {
      "cell_type": "code",
      "source": [
        "!python gentest.py > test10.txt"
      ],
      "metadata": {
        "id": "fZOYJXmgV_Ou"
      },
      "execution_count": 14,
      "outputs": []
    },
    {
      "cell_type": "code",
      "source": [
        "%%writefile sol.py\n",
        "import sys\n",
        "n = int(sys.stdin.readline())\n",
        "list_a = list(map(int, sys.stdin.readline().strip().split()))\n",
        "m = int(sys.stdin.readline())\n",
        "list_b = list(map(int, sys.stdin.readline().strip().split()))\n",
        "\n",
        "for i in list_b:\n",
        "  try:\n",
        "    print(len(list_a) - 1 - list_a.index(i))\n",
        "  except:\n",
        "    print(-1)"
      ],
      "metadata": {
        "colab": {
          "base_uri": "https://localhost:8080/"
        },
        "id": "WPdH1xg8WGRC",
        "outputId": "2dc901dd-7d82-439b-fe1e-c74fa1629820"
      },
      "execution_count": 11,
      "outputs": [
        {
          "output_type": "stream",
          "name": "stdout",
          "text": [
            "Overwriting sol.py\n"
          ]
        }
      ]
    },
    {
      "cell_type": "code",
      "source": [
        "!python sol.py < test10.txt"
      ],
      "metadata": {
        "colab": {
          "base_uri": "https://localhost:8080/"
        },
        "id": "L5S8XXtZXAsI",
        "outputId": "3a25335e-1fbc-4698-8b77-535445b96df0"
      },
      "execution_count": 5,
      "outputs": [
        {
          "output_type": "stream",
          "name": "stdout",
          "text": [
            "-1 4 -1 -1 -1 2 "
          ]
        }
      ]
    },
    {
      "cell_type": "code",
      "source": [
        "!touch testde.txt"
      ],
      "metadata": {
        "id": "X7Fxv00vXJHK"
      },
      "execution_count": 6,
      "outputs": []
    },
    {
      "cell_type": "code",
      "source": [
        "%%writefile testde.txt\n",
        "7\n",
        "5 7 8 8 12 16 19\n",
        "6\n",
        "8 1 0 8 3 16"
      ],
      "metadata": {
        "colab": {
          "base_uri": "https://localhost:8080/"
        },
        "id": "ZGGKe1M_Xadd",
        "outputId": "cc5de727-ed42-46e2-9a1c-87925a5c7878"
      },
      "execution_count": 7,
      "outputs": [
        {
          "output_type": "stream",
          "name": "stdout",
          "text": [
            "Overwriting testde.txt\n"
          ]
        }
      ]
    },
    {
      "cell_type": "code",
      "source": [
        "!python sol.py < testde.txt"
      ],
      "metadata": {
        "colab": {
          "base_uri": "https://localhost:8080/"
        },
        "id": "9F6g5RZyXm_e",
        "outputId": "ecbd2fcc-28d6-446b-bedd-f77aee4a6c20"
      },
      "execution_count": 12,
      "outputs": [
        {
          "output_type": "stream",
          "name": "stdout",
          "text": [
            "4\n",
            "-1\n",
            "-1\n",
            "4\n",
            "-1\n",
            "1\n"
          ]
        }
      ]
    },
    {
      "cell_type": "code",
      "source": [
        "!time python sol.py < test10.txt > /dev/null"
      ],
      "metadata": {
        "colab": {
          "base_uri": "https://localhost:8080/"
        },
        "id": "zvWlSHKZXq3h",
        "outputId": "44736b68-4b2a-482d-8bc7-227f275be29e"
      },
      "execution_count": 15,
      "outputs": [
        {
          "output_type": "stream",
          "name": "stdout",
          "text": [
            "\n",
            "real\t0m0.253s\n",
            "user\t0m0.208s\n",
            "sys\t0m0.015s\n"
          ]
        }
      ]
    },
    {
      "cell_type": "code",
      "source": [
        "!apt install time"
      ],
      "metadata": {
        "colab": {
          "base_uri": "https://localhost:8080/"
        },
        "id": "1g3LO6FMZ4KB",
        "outputId": "becb0473-dd06-4f9b-f213-8234232b7790"
      },
      "execution_count": 16,
      "outputs": [
        {
          "output_type": "stream",
          "name": "stdout",
          "text": [
            "Reading package lists... Done\n",
            "Building dependency tree... Done\n",
            "Reading state information... Done\n",
            "The following NEW packages will be installed:\n",
            "  time\n",
            "0 upgraded, 1 newly installed, 0 to remove and 35 not upgraded.\n",
            "Need to get 46.7 kB of archives.\n",
            "After this operation, 129 kB of additional disk space will be used.\n",
            "Get:1 http://archive.ubuntu.com/ubuntu jammy/main amd64 time amd64 1.9-0.1build2 [46.7 kB]\n",
            "Fetched 46.7 kB in 0s (102 kB/s)\n",
            "Selecting previously unselected package time.\n",
            "(Reading database ... 121749 files and directories currently installed.)\n",
            "Preparing to unpack .../time_1.9-0.1build2_amd64.deb ...\n",
            "Unpacking time (1.9-0.1build2) ...\n",
            "Setting up time (1.9-0.1build2) ...\n",
            "Processing triggers for man-db (2.10.2-1) ...\n"
          ]
        }
      ]
    },
    {
      "cell_type": "code",
      "source": [],
      "metadata": {
        "id": "73JecMU7aCL8"
      },
      "execution_count": null,
      "outputs": []
    }
  ]
}